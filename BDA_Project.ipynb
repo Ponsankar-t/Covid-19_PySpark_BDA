{
  "nbformat": 4,
  "nbformat_minor": 0,
  "metadata": {
    "colab": {
      "provenance": [],
      "name": "BDA_Project.ipynb"
    },
    "kernelspec": {
      "name": "python3",
      "display_name": "Python 3"
    },
    "language_info": {
      "name": "python"
    }
  },
  "cells": [
    {
      "cell_type": "code",
      "execution_count": null,
      "metadata": {
        "colab": {
          "base_uri": "https://localhost:8080/"
        },
        "id": "4eo7useMNoBg",
        "outputId": "735070f6-e4f0-4e57-c3d8-d5b7dc38f1e8"
      },
      "outputs": [
        {
          "output_type": "stream",
          "name": "stdout",
          "text": [
            "Requirement already satisfied: pyspark in /usr/local/lib/python3.10/dist-packages (3.5.3)\n",
            "Requirement already satisfied: kaggle in /usr/local/lib/python3.10/dist-packages (1.6.17)\n",
            "Requirement already satisfied: py4j==0.10.9.7 in /usr/local/lib/python3.10/dist-packages (from pyspark) (0.10.9.7)\n",
            "Requirement already satisfied: six>=1.10 in /usr/local/lib/python3.10/dist-packages (from kaggle) (1.17.0)\n",
            "Requirement already satisfied: certifi>=2023.7.22 in /usr/local/lib/python3.10/dist-packages (from kaggle) (2024.12.14)\n",
            "Requirement already satisfied: python-dateutil in /usr/local/lib/python3.10/dist-packages (from kaggle) (2.8.2)\n",
            "Requirement already satisfied: requests in /usr/local/lib/python3.10/dist-packages (from kaggle) (2.32.3)\n",
            "Requirement already satisfied: tqdm in /usr/local/lib/python3.10/dist-packages (from kaggle) (4.67.1)\n",
            "Requirement already satisfied: python-slugify in /usr/local/lib/python3.10/dist-packages (from kaggle) (8.0.4)\n",
            "Requirement already satisfied: urllib3 in /usr/local/lib/python3.10/dist-packages (from kaggle) (2.2.3)\n",
            "Requirement already satisfied: bleach in /usr/local/lib/python3.10/dist-packages (from kaggle) (6.2.0)\n",
            "Requirement already satisfied: webencodings in /usr/local/lib/python3.10/dist-packages (from bleach->kaggle) (0.5.1)\n",
            "Requirement already satisfied: text-unidecode>=1.3 in /usr/local/lib/python3.10/dist-packages (from python-slugify->kaggle) (1.3)\n",
            "Requirement already satisfied: charset-normalizer<4,>=2 in /usr/local/lib/python3.10/dist-packages (from requests->kaggle) (3.4.0)\n",
            "Requirement already satisfied: idna<4,>=2.5 in /usr/local/lib/python3.10/dist-packages (from requests->kaggle) (3.10)\n",
            "Dataset URL: https://www.kaggle.com/datasets/sudalairajkumar/novel-corona-virus-2019-dataset\n",
            "License(s): copyright-authors\n",
            "Downloading novel-corona-virus-2019-dataset.zip to /content\n",
            "  0% 0.00/8.52M [00:00<?, ?B/s]\n",
            "100% 8.52M/8.52M [00:00<00:00, 106MB/s]\n",
            "Archive:  novel-corona-virus-2019-dataset.zip\n",
            "  inflating: covid_19_data.csv       \n",
            "  inflating: time_series_covid_19_confirmed.csv  \n",
            "  inflating: time_series_covid_19_confirmed_US.csv  \n",
            "  inflating: time_series_covid_19_deaths.csv  \n",
            "  inflating: time_series_covid_19_deaths_US.csv  \n",
            "  inflating: time_series_covid_19_recovered.csv  \n"
          ]
        }
      ],
      "source": [
        "!pip install pyspark kaggle\n",
        "!kaggle datasets download -d sudalairajkumar/novel-corona-virus-2019-dataset\n",
        "!unzip novel-corona-virus-2019-dataset.zip"
      ]
    },
    {
      "cell_type": "code",
      "source": [
        "from pyspark.sql import SparkSession\n",
        "from pyspark.sql.functions import *\n"
      ],
      "metadata": {
        "id": "kG95pW45N9jJ"
      },
      "execution_count": null,
      "outputs": []
    },
    {
      "cell_type": "code",
      "source": [
        "spark = SparkSession.builder.appName(\"CovidDataAnalysis\").getOrCreate()"
      ],
      "metadata": {
        "id": "8UN7ylA6N_9x"
      },
      "execution_count": null,
      "outputs": []
    },
    {
      "cell_type": "code",
      "source": [
        "try:\n",
        "  df = spark.read.csv(\"covid_19_data.csv\", header=True, inferSchema=True)\n",
        "except Exception as e:\n",
        "  print(f\"Error loading dataset: {e}\")\n",
        "  exit()"
      ],
      "metadata": {
        "id": "FCH5kzwgODag"
      },
      "execution_count": null,
      "outputs": []
    },
    {
      "cell_type": "code",
      "source": [
        "df.printSchema()\n",
        "df.show(5)"
      ],
      "metadata": {
        "colab": {
          "base_uri": "https://localhost:8080/"
        },
        "id": "I8fsO5nUOKzu",
        "outputId": "a3683cc0-fc28-4cea-c2b1-68e223d0a8f1"
      },
      "execution_count": null,
      "outputs": [
        {
          "output_type": "stream",
          "name": "stdout",
          "text": [
            "root\n",
            " |-- SNo: integer (nullable = true)\n",
            " |-- ObservationDate: string (nullable = true)\n",
            " |-- Province/State: string (nullable = true)\n",
            " |-- Country/Region: string (nullable = true)\n",
            " |-- Last Update: string (nullable = true)\n",
            " |-- Confirmed: double (nullable = true)\n",
            " |-- Deaths: double (nullable = true)\n",
            " |-- Recovered: double (nullable = true)\n",
            "\n",
            "+---+---------------+--------------+--------------+---------------+---------+------+---------+\n",
            "|SNo|ObservationDate|Province/State|Country/Region|    Last Update|Confirmed|Deaths|Recovered|\n",
            "+---+---------------+--------------+--------------+---------------+---------+------+---------+\n",
            "|  1|     01/22/2020|         Anhui|Mainland China|1/22/2020 17:00|      1.0|   0.0|      0.0|\n",
            "|  2|     01/22/2020|       Beijing|Mainland China|1/22/2020 17:00|     14.0|   0.0|      0.0|\n",
            "|  3|     01/22/2020|     Chongqing|Mainland China|1/22/2020 17:00|      6.0|   0.0|      0.0|\n",
            "|  4|     01/22/2020|        Fujian|Mainland China|1/22/2020 17:00|      1.0|   0.0|      0.0|\n",
            "|  5|     01/22/2020|         Gansu|Mainland China|1/22/2020 17:00|      0.0|   0.0|      0.0|\n",
            "+---+---------------+--------------+--------------+---------------+---------+------+---------+\n",
            "only showing top 5 rows\n",
            "\n"
          ]
        }
      ]
    },
    {
      "cell_type": "code",
      "source": [
        "df = df.na.drop()"
      ],
      "metadata": {
        "id": "7JcNCTwnOO-T"
      },
      "execution_count": null,
      "outputs": []
    },
    {
      "cell_type": "code",
      "source": [
        "total_cases_by_country = df.groupBy(\"Country/Region\").agg(sum(\"Confirmed\").alias(\"TotalConfirmed\"))\n",
        "total_cases_by_country.show()"
      ],
      "metadata": {
        "colab": {
          "base_uri": "https://localhost:8080/"
        },
        "id": "S4JFSbHrOU40",
        "outputId": "f25650db-804f-4442-edf7-2bb35c1db814"
      },
      "execution_count": null,
      "outputs": [
        {
          "output_type": "stream",
          "name": "stdout",
          "text": [
            "+--------------+--------------+\n",
            "|Country/Region|TotalConfirmed|\n",
            "+--------------+--------------+\n",
            "|        Russia|  9.21150045E8|\n",
            "|        Sweden|  1.40771789E8|\n",
            "|          Iraq|           0.0|\n",
            "|       Germany|  5.17436073E8|\n",
            "|        France|   1.9184641E7|\n",
            "|        Taiwan|        1104.0|\n",
            "|         Macau|       20605.0|\n",
            "|       Belgium|  1.54734075E8|\n",
            "|          Peru|  3.58489616E8|\n",
            "|         China|           0.0|\n",
            "|         India| 3.221090185E9|\n",
            "|         Chile|  2.31581173E8|\n",
            "|         Italy|  6.27754296E8|\n",
            "|         Spain|     6.40132E8|\n",
            "|       Denmark|      212226.0|\n",
            "|            US| 6.049145667E9|\n",
            "|     Hong Kong|     2655935.0|\n",
            "|       Ukraine|  3.10226075E8|\n",
            "|        Israel|           5.0|\n",
            "|        Mexico|  4.59557279E8|\n",
            "+--------------+--------------+\n",
            "only showing top 20 rows\n",
            "\n"
          ]
        }
      ]
    },
    {
      "cell_type": "code",
      "source": [
        "df = df.withColumn(\"MortalityRate\", (col(\"Deaths\") / col(\"Confirmed\")) * 100)\n",
        "df.select(\"Country/Region\", \"Confirmed\", \"Deaths\", \"MortalityRate\").show()"
      ],
      "metadata": {
        "colab": {
          "base_uri": "https://localhost:8080/"
        },
        "id": "k83FsfHvOark",
        "outputId": "d602eb7e-c987-49b7-e6f9-227075e395c8"
      },
      "execution_count": null,
      "outputs": [
        {
          "output_type": "stream",
          "name": "stdout",
          "text": [
            "+--------------+---------+------+------------------+\n",
            "|Country/Region|Confirmed|Deaths|     MortalityRate|\n",
            "+--------------+---------+------+------------------+\n",
            "|Mainland China|      1.0|   0.0|               0.0|\n",
            "|Mainland China|     14.0|   0.0|               0.0|\n",
            "|Mainland China|      6.0|   0.0|               0.0|\n",
            "|Mainland China|      1.0|   0.0|               0.0|\n",
            "|Mainland China|      0.0|   0.0|              NULL|\n",
            "|Mainland China|     26.0|   0.0|               0.0|\n",
            "|Mainland China|      2.0|   0.0|               0.0|\n",
            "|Mainland China|      1.0|   0.0|               0.0|\n",
            "|Mainland China|      4.0|   0.0|               0.0|\n",
            "|Mainland China|      1.0|   0.0|               0.0|\n",
            "|Mainland China|      0.0|   0.0|              NULL|\n",
            "|Mainland China|      5.0|   0.0|               0.0|\n",
            "|     Hong Kong|      0.0|   0.0|              NULL|\n",
            "|Mainland China|    444.0|  17.0|3.8288288288288284|\n",
            "|Mainland China|      4.0|   0.0|               0.0|\n",
            "|Mainland China|      0.0|   0.0|              NULL|\n",
            "|Mainland China|      1.0|   0.0|               0.0|\n",
            "|Mainland China|      2.0|   0.0|               0.0|\n",
            "|Mainland China|      0.0|   0.0|              NULL|\n",
            "|Mainland China|      2.0|   0.0|               0.0|\n",
            "+--------------+---------+------+------------------+\n",
            "only showing top 20 rows\n",
            "\n"
          ]
        }
      ]
    },
    {
      "cell_type": "code",
      "source": [
        "highest_mortality = df.orderBy(desc(\"MortalityRate\")).limit(10)\n",
        "highest_mortality.show()"
      ],
      "metadata": {
        "colab": {
          "base_uri": "https://localhost:8080/"
        },
        "id": "iaGLOZjLOdKA",
        "outputId": "7b73bd4e-574e-44d2-a01f-d8f45813fc4d"
      },
      "execution_count": null,
      "outputs": [
        {
          "output_type": "stream",
          "name": "stdout",
          "text": [
            "+------+---------------+--------------+--------------+-------------------+---------+-------+---------+------------------+\n",
            "|   SNo|ObservationDate|Province/State|Country/Region|        Last Update|Confirmed| Deaths|Recovered|     MortalityRate|\n",
            "+------+---------------+--------------+--------------+-------------------+---------+-------+---------+------------------+\n",
            "|196218|     01/05/2021|       Unknown|       Belgium|2021-04-02 15:13:53|  10786.0|19827.0|      0.0|183.82162061932135|\n",
            "|195454|     01/04/2021|       Unknown|       Belgium|2021-04-02 15:13:53|  10752.0|19750.0|      0.0|183.68675595238096|\n",
            "|196982|     01/06/2021|       Unknown|       Belgium|2021-04-02 15:13:53|  10834.0|19883.0|      0.0|   183.52409082518|\n",
            "|194690|     01/03/2021|       Unknown|       Belgium|2021-04-02 15:13:53|  10737.0|19701.0|      0.0| 183.4870075440067|\n",
            "|190875|     12/29/2020|       Unknown|       Belgium|2021-04-02 15:13:53|  10553.0|19361.0|      0.0|183.46441770112764|\n",
            "|193927|     01/02/2021|       Unknown|       Belgium|2021-04-02 15:13:53|  10723.0|19644.0|      0.0|183.19500139886227|\n",
            "|191638|     12/30/2020|       Unknown|       Belgium|2021-04-02 15:13:53|  10614.0|19441.0|      0.0|183.16374599585453|\n",
            "|193164|     01/01/2021|       Unknown|       Belgium|2021-04-02 15:13:53|  10701.0|19581.0|      0.0| 182.9828987945052|\n",
            "|192401|     12/31/2020|       Unknown|       Belgium|2021-04-02 15:13:53|  10674.0|19528.0|      0.0| 182.9492224095934|\n",
            "|189349|     12/27/2020|       Unknown|       Belgium|2021-04-02 15:13:53|  10495.0|19200.0|      0.0|182.94425917103382|\n",
            "+------+---------------+--------------+--------------+-------------------+---------+-------+---------+------------------+\n",
            "\n"
          ]
        }
      ]
    },
    {
      "cell_type": "code",
      "source": [
        "df = df.withColumn(\"Date\", to_date(col(\"ObservationDate\"), \"MM/dd/yyyy\"))\n",
        "df = df.orderBy(\"Country/Region\", \"Date\")"
      ],
      "metadata": {
        "id": "PZoq7AH4Ogur"
      },
      "execution_count": null,
      "outputs": []
    },
    {
      "cell_type": "code",
      "source": [
        "from pyspark.sql.window import Window"
      ],
      "metadata": {
        "id": "ild2gswKOlI_"
      },
      "execution_count": null,
      "outputs": []
    },
    {
      "cell_type": "code",
      "source": [
        "window_spec = Window.partitionBy(\"Country/Region\").orderBy(\"Date\")\n",
        "df = df.withColumn(\"DailyNewCases\", col(\"Confirmed\") - lag(col(\"Confirmed\"), 1, 0).over(window_spec))"
      ],
      "metadata": {
        "id": "4afqUhnvOohB"
      },
      "execution_count": null,
      "outputs": []
    },
    {
      "cell_type": "code",
      "source": [
        "df.select(\"Country/Region\", \"Date\", \"Confirmed\", \"DailyNewCases\").show()"
      ],
      "metadata": {
        "colab": {
          "base_uri": "https://localhost:8080/"
        },
        "id": "hhrmGmcaOtyq",
        "outputId": "e120b194-9e3c-4993-f405-80c96a23addd"
      },
      "execution_count": null,
      "outputs": [
        {
          "output_type": "stream",
          "name": "stdout",
          "text": [
            "+--------------+----------+---------+-------------+\n",
            "|Country/Region|      Date|Confirmed|DailyNewCases|\n",
            "+--------------+----------+---------+-------------+\n",
            "|     Australia|2020-01-27|      4.0|          4.0|\n",
            "|     Australia|2020-01-27|      1.0|         -3.0|\n",
            "|     Australia|2020-01-28|      4.0|          3.0|\n",
            "|     Australia|2020-01-28|      1.0|         -3.0|\n",
            "|     Australia|2020-01-29|      4.0|          3.0|\n",
            "|     Australia|2020-01-29|      1.0|         -3.0|\n",
            "|     Australia|2020-01-30|      4.0|          3.0|\n",
            "|     Australia|2020-01-30|      2.0|         -2.0|\n",
            "|     Australia|2020-01-30|      3.0|          1.0|\n",
            "|     Australia|2020-01-31|      4.0|          1.0|\n",
            "|     Australia|2020-01-31|      3.0|         -1.0|\n",
            "|     Australia|2020-01-31|      2.0|         -1.0|\n",
            "|     Australia|2020-02-01|      4.0|          2.0|\n",
            "|     Australia|2020-02-01|      4.0|          0.0|\n",
            "|     Australia|2020-02-01|      3.0|         -1.0|\n",
            "|     Australia|2020-02-01|      1.0|         -2.0|\n",
            "|     Australia|2020-02-02|      4.0|          3.0|\n",
            "|     Australia|2020-02-02|      4.0|          0.0|\n",
            "|     Australia|2020-02-02|      2.0|         -2.0|\n",
            "|     Australia|2020-02-02|      2.0|          0.0|\n",
            "+--------------+----------+---------+-------------+\n",
            "only showing top 20 rows\n",
            "\n"
          ]
        }
      ]
    },
    {
      "cell_type": "code",
      "source": [
        "spark.stop()"
      ],
      "metadata": {
        "id": "0EAQYMEhOwGQ"
      },
      "execution_count": null,
      "outputs": []
    },
    {
      "cell_type": "code",
      "source": [],
      "metadata": {
        "id": "QI1xQsQXOylD"
      },
      "execution_count": null,
      "outputs": []
    }
  ]
}